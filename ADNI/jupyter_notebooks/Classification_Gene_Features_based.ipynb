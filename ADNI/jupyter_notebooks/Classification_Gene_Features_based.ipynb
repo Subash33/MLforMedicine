{
 "cells": [
  {
   "cell_type": "code",
   "execution_count": 3,
   "metadata": {
    "colab": {},
    "colab_type": "code",
    "id": "lSdz9b8g9TgI"
   },
   "outputs": [],
   "source": [
    "import pandas as pd\n",
    "import os"
   ]
  },
  {
   "cell_type": "code",
   "execution_count": 10,
   "metadata": {
    "colab": {},
    "colab_type": "code",
    "id": "rEvAhTx-9TgO"
   },
   "outputs": [],
   "source": [
    "data_prep_path = '/Users/subashkhanal/Desktop/MLforAlzheimers/data/ADNI/genetics/data_prep'\n",
    "stats_path = '/Users/subashkhanal/Desktop/MLforAlzheimers/data/ADNI/genetics/stats'"
   ]
  },
  {
   "cell_type": "code",
   "execution_count": 5,
   "metadata": {},
   "outputs": [],
   "source": [
    "df = pd.read_csv(os.path.join(data_prep_path,'ADNI_Imaging_Gene_Expression_MMSE_Combined.csv'),low_memory=False)"
   ]
  },
  {
   "cell_type": "code",
   "execution_count": 7,
   "metadata": {},
   "outputs": [],
   "source": [
    "df = df.T"
   ]
  },
  {
   "cell_type": "code",
   "execution_count": 9,
   "metadata": {
    "colab": {},
    "colab_type": "code",
    "id": "1v_akSk99TgT",
    "outputId": "bcc6699b-0e0b-428e-bd94-950ec1a21e9c"
   },
   "outputs": [
    {
     "data": {
      "text/html": [
       "<div>\n",
       "<style scoped>\n",
       "    .dataframe tbody tr th:only-of-type {\n",
       "        vertical-align: middle;\n",
       "    }\n",
       "\n",
       "    .dataframe tbody tr th {\n",
       "        vertical-align: top;\n",
       "    }\n",
       "\n",
       "    .dataframe thead th {\n",
       "        text-align: right;\n",
       "    }\n",
       "</style>\n",
       "<table border=\"1\" class=\"dataframe\">\n",
       "  <thead>\n",
       "    <tr style=\"text-align: right;\">\n",
       "      <th>PTID</th>\n",
       "      <th>COLPROT</th>\n",
       "      <th>VISCODE</th>\n",
       "      <th>EXAMDATE</th>\n",
       "      <th>AGE</th>\n",
       "      <th>PTGENDER</th>\n",
       "      <th>PTEDUCAT</th>\n",
       "      <th>PTETHCAT</th>\n",
       "      <th>PTRACCAT</th>\n",
       "      <th>APOE4</th>\n",
       "      <th>FDG_bl</th>\n",
       "      <th>...</th>\n",
       "      <th>AFFX-r2-TagH_at</th>\n",
       "      <th>AFFX-r2-TagIN-3_at</th>\n",
       "      <th>AFFX-r2-TagIN-5_at</th>\n",
       "      <th>AFFX-r2-TagIN-M_at</th>\n",
       "      <th>AFFX-r2-TagJ-3_at</th>\n",
       "      <th>AFFX-r2-TagJ-5_at</th>\n",
       "      <th>AFFX-r2-TagO-3_at</th>\n",
       "      <th>AFFX-r2-TagO-5_at</th>\n",
       "      <th>AFFX-r2-TagQ-3_at</th>\n",
       "      <th>AFFX-r2-TagQ-5_at</th>\n",
       "    </tr>\n",
       "  </thead>\n",
       "  <tbody>\n",
       "    <tr>\n",
       "      <th>116_S_1249</th>\n",
       "      <td>ADNIGO</td>\n",
       "      <td>m48</td>\n",
       "      <td>2/23/11</td>\n",
       "      <td>70.8</td>\n",
       "      <td>Female</td>\n",
       "      <td>15</td>\n",
       "      <td>Not Hisp/Latino</td>\n",
       "      <td>White</td>\n",
       "      <td>1</td>\n",
       "      <td>NaN</td>\n",
       "      <td>...</td>\n",
       "      <td>2.355</td>\n",
       "      <td>2.624</td>\n",
       "      <td>2.01</td>\n",
       "      <td>2.906</td>\n",
       "      <td>2.463</td>\n",
       "      <td>2.05</td>\n",
       "      <td>2.06</td>\n",
       "      <td>1.858</td>\n",
       "      <td>2.028</td>\n",
       "      <td>2.162</td>\n",
       "    </tr>\n",
       "    <tr>\n",
       "      <th>037_S_4410</th>\n",
       "      <td>ADNI2</td>\n",
       "      <td>bl</td>\n",
       "      <td>1/4/12</td>\n",
       "      <td>69.1</td>\n",
       "      <td>Female</td>\n",
       "      <td>14</td>\n",
       "      <td>Not Hisp/Latino</td>\n",
       "      <td>White</td>\n",
       "      <td>0</td>\n",
       "      <td>1.24502</td>\n",
       "      <td>...</td>\n",
       "      <td>2.1</td>\n",
       "      <td>2.82</td>\n",
       "      <td>1.726</td>\n",
       "      <td>2.465</td>\n",
       "      <td>2.26</td>\n",
       "      <td>1.933</td>\n",
       "      <td>1.717</td>\n",
       "      <td>2.208</td>\n",
       "      <td>2.058</td>\n",
       "      <td>1.882</td>\n",
       "    </tr>\n",
       "    <tr>\n",
       "      <th>006_S_4153</th>\n",
       "      <td>ADNI2</td>\n",
       "      <td>bl</td>\n",
       "      <td>9/9/11</td>\n",
       "      <td>79.3</td>\n",
       "      <td>Male</td>\n",
       "      <td>20</td>\n",
       "      <td>Not Hisp/Latino</td>\n",
       "      <td>White</td>\n",
       "      <td>1</td>\n",
       "      <td>1.11946</td>\n",
       "      <td>...</td>\n",
       "      <td>2.165</td>\n",
       "      <td>2.455</td>\n",
       "      <td>1.84</td>\n",
       "      <td>2.681</td>\n",
       "      <td>2.251</td>\n",
       "      <td>1.985</td>\n",
       "      <td>1.77</td>\n",
       "      <td>2.184</td>\n",
       "      <td>2.007</td>\n",
       "      <td>2.134</td>\n",
       "    </tr>\n",
       "    <tr>\n",
       "      <th>116_S_1232</th>\n",
       "      <td>ADNIGO</td>\n",
       "      <td>m48</td>\n",
       "      <td>2/16/11</td>\n",
       "      <td>72.1</td>\n",
       "      <td>Female</td>\n",
       "      <td>14</td>\n",
       "      <td>Not Hisp/Latino</td>\n",
       "      <td>White</td>\n",
       "      <td>0</td>\n",
       "      <td>NaN</td>\n",
       "      <td>...</td>\n",
       "      <td>2.094</td>\n",
       "      <td>2.599</td>\n",
       "      <td>1.837</td>\n",
       "      <td>2.713</td>\n",
       "      <td>2.158</td>\n",
       "      <td>1.916</td>\n",
       "      <td>1.878</td>\n",
       "      <td>2.163</td>\n",
       "      <td>2.185</td>\n",
       "      <td>2.099</td>\n",
       "    </tr>\n",
       "    <tr>\n",
       "      <th>099_S_4205</th>\n",
       "      <td>ADNI2</td>\n",
       "      <td>bl</td>\n",
       "      <td>11/4/11</td>\n",
       "      <td>81.4</td>\n",
       "      <td>Female</td>\n",
       "      <td>18</td>\n",
       "      <td>Not Hisp/Latino</td>\n",
       "      <td>White</td>\n",
       "      <td>0</td>\n",
       "      <td>1.24726</td>\n",
       "      <td>...</td>\n",
       "      <td>1.973</td>\n",
       "      <td>2.544</td>\n",
       "      <td>1.909</td>\n",
       "      <td>2.548</td>\n",
       "      <td>2.266</td>\n",
       "      <td>2.077</td>\n",
       "      <td>1.838</td>\n",
       "      <td>2.085</td>\n",
       "      <td>1.941</td>\n",
       "      <td>1.883</td>\n",
       "    </tr>\n",
       "  </tbody>\n",
       "</table>\n",
       "<p>5 rows × 49417 columns</p>\n",
       "</div>"
      ],
      "text/plain": [
       "PTID       COLPROT VISCODE EXAMDATE   AGE PTGENDER PTEDUCAT         PTETHCAT  \\\n",
       "116_S_1249  ADNIGO     m48  2/23/11  70.8   Female       15  Not Hisp/Latino   \n",
       "037_S_4410   ADNI2      bl   1/4/12  69.1   Female       14  Not Hisp/Latino   \n",
       "006_S_4153   ADNI2      bl   9/9/11  79.3     Male       20  Not Hisp/Latino   \n",
       "116_S_1232  ADNIGO     m48  2/16/11  72.1   Female       14  Not Hisp/Latino   \n",
       "099_S_4205   ADNI2      bl  11/4/11  81.4   Female       18  Not Hisp/Latino   \n",
       "\n",
       "PTID       PTRACCAT APOE4   FDG_bl  ... AFFX-r2-TagH_at AFFX-r2-TagIN-3_at  \\\n",
       "116_S_1249    White     1      NaN  ...           2.355              2.624   \n",
       "037_S_4410    White     0  1.24502  ...             2.1               2.82   \n",
       "006_S_4153    White     1  1.11946  ...           2.165              2.455   \n",
       "116_S_1232    White     0      NaN  ...           2.094              2.599   \n",
       "099_S_4205    White     0  1.24726  ...           1.973              2.544   \n",
       "\n",
       "PTID       AFFX-r2-TagIN-5_at AFFX-r2-TagIN-M_at AFFX-r2-TagJ-3_at  \\\n",
       "116_S_1249               2.01              2.906             2.463   \n",
       "037_S_4410              1.726              2.465              2.26   \n",
       "006_S_4153               1.84              2.681             2.251   \n",
       "116_S_1232              1.837              2.713             2.158   \n",
       "099_S_4205              1.909              2.548             2.266   \n",
       "\n",
       "PTID       AFFX-r2-TagJ-5_at AFFX-r2-TagO-3_at AFFX-r2-TagO-5_at  \\\n",
       "116_S_1249              2.05              2.06             1.858   \n",
       "037_S_4410             1.933             1.717             2.208   \n",
       "006_S_4153             1.985              1.77             2.184   \n",
       "116_S_1232             1.916             1.878             2.163   \n",
       "099_S_4205             2.077             1.838             2.085   \n",
       "\n",
       "PTID       AFFX-r2-TagQ-3_at AFFX-r2-TagQ-5_at  \n",
       "116_S_1249             2.028             2.162  \n",
       "037_S_4410             2.058             1.882  \n",
       "006_S_4153             2.007             2.134  \n",
       "116_S_1232             2.185             2.099  \n",
       "099_S_4205             1.941             1.883  \n",
       "\n",
       "[5 rows x 49417 columns]"
      ]
     },
     "execution_count": 9,
     "metadata": {},
     "output_type": "execute_result"
    }
   ],
   "source": [
    "df.columns = df.iloc[0]\n",
    "df = df.drop(df.index[[0]])\n",
    "df.head()"
   ]
  },
  {
   "cell_type": "code",
   "execution_count": 28,
   "metadata": {
    "colab": {},
    "colab_type": "code",
    "id": "j1pML_Zl9Tgf"
   },
   "outputs": [],
   "source": [
    "stat_test = pd.read_csv(os.path.join(stats_path,'t_test_geneExpr.csv'))\n",
    "full = 200\n",
    "partial = 50\n",
    "portion = full"
   ]
  },
  {
   "cell_type": "code",
   "execution_count": 29,
   "metadata": {
    "colab": {},
    "colab_type": "code",
    "id": "IlDIZ4Hi9Tgl"
   },
   "outputs": [],
   "source": [
    "top_AD_CN = stat_test.sort_values(by=['AD_CN']).iloc[0:portion]#['Unnamed: 0.1']\n",
    "top_AD_MCI = stat_test.sort_values(by=['AD_MCI']).iloc[0:portion]#['Unnamed: 0.1']\n",
    "top_CN_MCI = stat_test.sort_values(by=['CN_MCI']).iloc[0:portion]#['Unnamed: 0.1']"
   ]
  },
  {
   "cell_type": "code",
   "execution_count": 31,
   "metadata": {
    "colab": {},
    "colab_type": "code",
    "id": "AMOwqcuk9Tgu"
   },
   "outputs": [],
   "source": [
    "df_CN = df[df['DX']=='CN']\n",
    "df_AD = df[df['DX']=='Dementia']\n",
    "df_MCI = df[df['DX']=='MCI']"
   ]
  },
  {
   "cell_type": "code",
   "execution_count": 32,
   "metadata": {
    "colab": {},
    "colab_type": "code",
    "id": "KS3pfQ6x9Tgy",
    "outputId": "fd4b1818-8efa-4649-d89e-18b0cec5b804"
   },
   "outputs": [
    {
     "data": {
      "text/plain": [
       "Index(['COLPROT', 'VISCODE', 'EXAMDATE', 'AGE', 'PTGENDER', 'PTEDUCAT',\n",
       "       'PTETHCAT', 'PTRACCAT', 'APOE4', 'FDG_bl',\n",
       "       ...\n",
       "       'AFFX-r2-TagH_at', 'AFFX-r2-TagIN-3_at', 'AFFX-r2-TagIN-5_at',\n",
       "       'AFFX-r2-TagIN-M_at', 'AFFX-r2-TagJ-3_at', 'AFFX-r2-TagJ-5_at',\n",
       "       'AFFX-r2-TagO-3_at', 'AFFX-r2-TagO-5_at', 'AFFX-r2-TagQ-3_at',\n",
       "       'AFFX-r2-TagQ-5_at'],\n",
       "      dtype='object', name='PTID', length=49417)"
      ]
     },
     "execution_count": 32,
     "metadata": {},
     "output_type": "execute_result"
    }
   ],
   "source": [
    "df_CN.columns"
   ]
  },
  {
   "cell_type": "code",
   "execution_count": 36,
   "metadata": {
    "colab": {},
    "colab_type": "code",
    "id": "StHL9pfT9Tg3"
   },
   "outputs": [],
   "source": [
    "class1 = df_CN[['AGE','PTGENDER','APOE4','DX']+list(top_200_AD_CN['PTID'])]\n",
    "class2 = df_AD[['AGE','PTGENDER','APOE4','DX']+list(top_200_AD_CN['PTID'])]"
   ]
  },
  {
   "cell_type": "code",
   "execution_count": 37,
   "metadata": {
    "colab": {},
    "colab_type": "code",
    "id": "m-U87EbS9Tg-"
   },
   "outputs": [],
   "source": [
    "overall_df = pd.concat([class1, class2], axis=0)"
   ]
  },
  {
   "cell_type": "code",
   "execution_count": 38,
   "metadata": {
    "colab": {},
    "colab_type": "code",
    "id": "Y0WeJ6dt9ThC",
    "outputId": "c4f03bb2-3841-4ceb-aeab-742b7fcb81bd"
   },
   "outputs": [
    {
     "data": {
      "text/plain": [
       "(357, 204)"
      ]
     },
     "execution_count": 38,
     "metadata": {},
     "output_type": "execute_result"
    }
   ],
   "source": [
    "overall_df.shape"
   ]
  },
  {
   "cell_type": "code",
   "execution_count": 39,
   "metadata": {
    "colab": {},
    "colab_type": "code",
    "id": "lUwxojKD9ThG",
    "outputId": "e5c0e1c0-823f-495a-823e-f50bf26dda13"
   },
   "outputs": [
    {
     "data": {
      "text/plain": [
       "357"
      ]
     },
     "execution_count": 39,
     "metadata": {},
     "output_type": "execute_result"
    }
   ],
   "source": [
    "len(CN)+len(AD)"
   ]
  },
  {
   "cell_type": "code",
   "execution_count": 40,
   "metadata": {
    "colab": {},
    "colab_type": "code",
    "id": "xod1rxPa9ThJ"
   },
   "outputs": [],
   "source": [
    "y = overall_df['DX']"
   ]
  },
  {
   "cell_type": "code",
   "execution_count": 41,
   "metadata": {
    "colab": {},
    "colab_type": "code",
    "id": "yujPylcy9ThN"
   },
   "outputs": [],
   "source": [
    "X = overall_df.drop(columns = ['DX'])"
   ]
  },
  {
   "cell_type": "code",
   "execution_count": 42,
   "metadata": {
    "colab": {},
    "colab_type": "code",
    "id": "hLwf51hm9ThR"
   },
   "outputs": [],
   "source": [
    "X['PTGENDER'] = X['PTGENDER'].astype('category').cat.codes"
   ]
  },
  {
   "cell_type": "code",
   "execution_count": 43,
   "metadata": {
    "colab": {},
    "colab_type": "code",
    "id": "J_zMfbjm9ThV",
    "outputId": "9abc0e66-a32f-4574-c95f-4e1a0c6b8734"
   },
   "outputs": [
    {
     "data": {
      "text/plain": [
       "((357, 203), (357,))"
      ]
     },
     "execution_count": 43,
     "metadata": {},
     "output_type": "execute_result"
    }
   ],
   "source": [
    "X.shape, y.shape"
   ]
  },
  {
   "cell_type": "code",
   "execution_count": 44,
   "metadata": {
    "colab": {},
    "colab_type": "code",
    "id": "LxCZgeR89ThZ",
    "outputId": "9c50fbe8-6abc-47e6-9cd6-8b9653d65df7"
   },
   "outputs": [
    {
     "data": {
      "text/html": [
       "<div>\n",
       "<style scoped>\n",
       "    .dataframe tbody tr th:only-of-type {\n",
       "        vertical-align: middle;\n",
       "    }\n",
       "\n",
       "    .dataframe tbody tr th {\n",
       "        vertical-align: top;\n",
       "    }\n",
       "\n",
       "    .dataframe thead th {\n",
       "        text-align: right;\n",
       "    }\n",
       "</style>\n",
       "<table border=\"1\" class=\"dataframe\">\n",
       "  <thead>\n",
       "    <tr style=\"text-align: right;\">\n",
       "      <th>PTID</th>\n",
       "      <th>AGE</th>\n",
       "      <th>PTGENDER</th>\n",
       "      <th>APOE4</th>\n",
       "      <th>11742204_a_at</th>\n",
       "      <th>11746877_a_at</th>\n",
       "      <th>11730765_at</th>\n",
       "      <th>11748344_x_at</th>\n",
       "      <th>11757474_x_at</th>\n",
       "      <th>11736880_x_at</th>\n",
       "      <th>11742220_x_at</th>\n",
       "      <th>...</th>\n",
       "      <th>11731422_s_at</th>\n",
       "      <th>11759183_at</th>\n",
       "      <th>11736837_a_at</th>\n",
       "      <th>11718323_at</th>\n",
       "      <th>11742017_a_at</th>\n",
       "      <th>11749758_s_at</th>\n",
       "      <th>11731375_a_at</th>\n",
       "      <th>11762439_at</th>\n",
       "      <th>11731114_a_at</th>\n",
       "      <th>11731062_s_at</th>\n",
       "    </tr>\n",
       "  </thead>\n",
       "  <tbody>\n",
       "    <tr>\n",
       "      <th>116_S_1249</th>\n",
       "      <td>70.8</td>\n",
       "      <td>0</td>\n",
       "      <td>1</td>\n",
       "      <td>8.297</td>\n",
       "      <td>3.678</td>\n",
       "      <td>2.685</td>\n",
       "      <td>2.944</td>\n",
       "      <td>11.657</td>\n",
       "      <td>6.364</td>\n",
       "      <td>5.996</td>\n",
       "      <td>...</td>\n",
       "      <td>10.113</td>\n",
       "      <td>4.413</td>\n",
       "      <td>4.511</td>\n",
       "      <td>6.926</td>\n",
       "      <td>5.201</td>\n",
       "      <td>6.978</td>\n",
       "      <td>2.974</td>\n",
       "      <td>2.324</td>\n",
       "      <td>2.105</td>\n",
       "      <td>5.04</td>\n",
       "    </tr>\n",
       "    <tr>\n",
       "      <th>037_S_4410</th>\n",
       "      <td>69.1</td>\n",
       "      <td>0</td>\n",
       "      <td>0</td>\n",
       "      <td>8.721</td>\n",
       "      <td>3.528</td>\n",
       "      <td>2.871</td>\n",
       "      <td>3.149</td>\n",
       "      <td>11.697</td>\n",
       "      <td>5.628</td>\n",
       "      <td>6.267</td>\n",
       "      <td>...</td>\n",
       "      <td>10.607</td>\n",
       "      <td>4.204</td>\n",
       "      <td>4.18</td>\n",
       "      <td>6.855</td>\n",
       "      <td>5.911</td>\n",
       "      <td>5.521</td>\n",
       "      <td>3.326</td>\n",
       "      <td>2.318</td>\n",
       "      <td>2.153</td>\n",
       "      <td>5.043</td>\n",
       "    </tr>\n",
       "    <tr>\n",
       "      <th>116_S_1232</th>\n",
       "      <td>72.1</td>\n",
       "      <td>0</td>\n",
       "      <td>0</td>\n",
       "      <td>8.687</td>\n",
       "      <td>3.841</td>\n",
       "      <td>2.574</td>\n",
       "      <td>2.767</td>\n",
       "      <td>11.389</td>\n",
       "      <td>5.975</td>\n",
       "      <td>6.127</td>\n",
       "      <td>...</td>\n",
       "      <td>9.801</td>\n",
       "      <td>4.81</td>\n",
       "      <td>5.143</td>\n",
       "      <td>7.27</td>\n",
       "      <td>6.083</td>\n",
       "      <td>6.8</td>\n",
       "      <td>3.1</td>\n",
       "      <td>2.563</td>\n",
       "      <td>2.099</td>\n",
       "      <td>5.6</td>\n",
       "    </tr>\n",
       "    <tr>\n",
       "      <th>128_S_0205</th>\n",
       "      <td>66.5</td>\n",
       "      <td>0</td>\n",
       "      <td>0</td>\n",
       "      <td>8.341</td>\n",
       "      <td>3.302</td>\n",
       "      <td>2.245</td>\n",
       "      <td>2.951</td>\n",
       "      <td>11.373</td>\n",
       "      <td>6.327</td>\n",
       "      <td>6.112</td>\n",
       "      <td>...</td>\n",
       "      <td>9.848</td>\n",
       "      <td>4.47</td>\n",
       "      <td>4.034</td>\n",
       "      <td>6.679</td>\n",
       "      <td>5.248</td>\n",
       "      <td>6.189</td>\n",
       "      <td>2.717</td>\n",
       "      <td>2.427</td>\n",
       "      <td>2.038</td>\n",
       "      <td>5.531</td>\n",
       "    </tr>\n",
       "    <tr>\n",
       "      <th>036_S_4491</th>\n",
       "      <td>84.1</td>\n",
       "      <td>1</td>\n",
       "      <td>0</td>\n",
       "      <td>8.545</td>\n",
       "      <td>4.024</td>\n",
       "      <td>5.755</td>\n",
       "      <td>3.417</td>\n",
       "      <td>11.548</td>\n",
       "      <td>5.225</td>\n",
       "      <td>5.797</td>\n",
       "      <td>...</td>\n",
       "      <td>9.128</td>\n",
       "      <td>4.184</td>\n",
       "      <td>5.147</td>\n",
       "      <td>6.523</td>\n",
       "      <td>6.035</td>\n",
       "      <td>7.315</td>\n",
       "      <td>4.258</td>\n",
       "      <td>2.352</td>\n",
       "      <td>2.498</td>\n",
       "      <td>4.676</td>\n",
       "    </tr>\n",
       "  </tbody>\n",
       "</table>\n",
       "<p>5 rows × 203 columns</p>\n",
       "</div>"
      ],
      "text/plain": [
       "PTID         AGE  PTGENDER APOE4 11742204_a_at 11746877_a_at 11730765_at  \\\n",
       "116_S_1249  70.8         0     1         8.297         3.678       2.685   \n",
       "037_S_4410  69.1         0     0         8.721         3.528       2.871   \n",
       "116_S_1232  72.1         0     0         8.687         3.841       2.574   \n",
       "128_S_0205  66.5         0     0         8.341         3.302       2.245   \n",
       "036_S_4491  84.1         1     0         8.545         4.024       5.755   \n",
       "\n",
       "PTID       11748344_x_at 11757474_x_at 11736880_x_at 11742220_x_at  ...  \\\n",
       "116_S_1249         2.944        11.657         6.364         5.996  ...   \n",
       "037_S_4410         3.149        11.697         5.628         6.267  ...   \n",
       "116_S_1232         2.767        11.389         5.975         6.127  ...   \n",
       "128_S_0205         2.951        11.373         6.327         6.112  ...   \n",
       "036_S_4491         3.417        11.548         5.225         5.797  ...   \n",
       "\n",
       "PTID       11731422_s_at 11759183_at 11736837_a_at 11718323_at 11742017_a_at  \\\n",
       "116_S_1249        10.113       4.413         4.511       6.926         5.201   \n",
       "037_S_4410        10.607       4.204          4.18       6.855         5.911   \n",
       "116_S_1232         9.801        4.81         5.143        7.27         6.083   \n",
       "128_S_0205         9.848        4.47         4.034       6.679         5.248   \n",
       "036_S_4491         9.128       4.184         5.147       6.523         6.035   \n",
       "\n",
       "PTID       11749758_s_at 11731375_a_at 11762439_at 11731114_a_at 11731062_s_at  \n",
       "116_S_1249         6.978         2.974       2.324         2.105          5.04  \n",
       "037_S_4410         5.521         3.326       2.318         2.153         5.043  \n",
       "116_S_1232           6.8           3.1       2.563         2.099           5.6  \n",
       "128_S_0205         6.189         2.717       2.427         2.038         5.531  \n",
       "036_S_4491         7.315         4.258       2.352         2.498         4.676  \n",
       "\n",
       "[5 rows x 203 columns]"
      ]
     },
     "execution_count": 44,
     "metadata": {},
     "output_type": "execute_result"
    }
   ],
   "source": [
    "X.head()"
   ]
  },
  {
   "cell_type": "code",
   "execution_count": 45,
   "metadata": {
    "colab": {},
    "colab_type": "code",
    "id": "WG4A9YHF9Thc"
   },
   "outputs": [],
   "source": [
    "from sklearn.model_selection import train_test_split\n",
    "from sklearn.model_selection import StratifiedKFold\n",
    "from sklearn.ensemble import RandomForestClassifier\n",
    "from sklearn.linear_model import LogisticRegression"
   ]
  },
  {
   "cell_type": "code",
   "execution_count": 46,
   "metadata": {
    "colab": {},
    "colab_type": "code",
    "id": "VXtF4roF9Thf"
   },
   "outputs": [],
   "source": [
    "K = 5\n",
    "kfold = StratifiedKFold(n_splits=K, shuffle=True, random_state=1)\n",
    "# enumerate the splits and summarize the distributions\n",
    "index_array = []\n",
    "for train_ix, test_ix in kfold.split(X, y):\n",
    "    \n",
    "    fold_index = [train_ix,test_ix]\n",
    "    index_array.append(fold_index)\n",
    "\n",
    "    "
   ]
  },
  {
   "cell_type": "code",
   "execution_count": 47,
   "metadata": {
    "colab": {},
    "colab_type": "code",
    "id": "c8IIOWdA9Thn"
   },
   "outputs": [],
   "source": [
    "import numpy as np\n",
    "X = np.array(X)\n",
    "y = np.array(y)"
   ]
  },
  {
   "cell_type": "code",
   "execution_count": 63,
   "metadata": {
    "colab": {},
    "colab_type": "code",
    "id": "vLGA1fh29Thr",
    "outputId": "1db6fd64-af5d-47eb-bcc4-f29803ba15c5"
   },
   "outputs": [
    {
     "name": "stdout",
     "output_type": "stream",
     "text": [
      "1.0 0.7450312989045382\n"
     ]
    }
   ],
   "source": [
    "import random\n",
    "random.seed(30)\n",
    "clf = RandomForestClassifier(n_estimators=200,random_state=30)\n",
    "tr_acc = []\n",
    "ts_acc = []\n",
    "\n",
    "for i in range(K):\n",
    "    X_train, y_train = X[index_array[i][0]], y[index_array[i][0]]\n",
    "    X_test, y_test = X[index_array[i][1]], y[index_array[i][1]]\n",
    "    clf.fit(X_train, y_train)\n",
    "    y_pred_train = clf.predict(X_train)\n",
    "    y_pred_test = clf.predict(X_test)\n",
    "    train_acc = (y_pred_train == y_train).sum()/len(y_train)\n",
    "    test_acc = (y_pred_test == y_test).sum()/len(y_test)\n",
    "    \n",
    "    tr_acc.append(train_acc)\n",
    "    ts_acc.append(test_acc)\n",
    "    \n",
    "print(np.array(tr_acc).mean(),np.array(ts_acc).mean())\n",
    "\n",
    "# 1.0 0.7450312989045382 while including APOE4 feature\n",
    "#When that is removed!"
   ]
  },
  {
   "cell_type": "code",
   "execution_count": 64,
   "metadata": {
    "colab": {},
    "colab_type": "code",
    "id": "Ffz4EnX29Thu",
    "outputId": "d49e1942-eed9-4f9d-a175-20485aae5626"
   },
   "outputs": [
    {
     "data": {
      "text/plain": [
       "(Counter({'CN': 48, 'Dementia': 23}), Counter({'CN': 62, 'Dementia': 9}))"
      ]
     },
     "execution_count": 64,
     "metadata": {},
     "output_type": "execute_result"
    }
   ],
   "source": [
    "from collections import Counter\n",
    "Counter(y_test),Counter(y_pred_test)"
   ]
  },
  {
   "cell_type": "code",
   "execution_count": 65,
   "metadata": {
    "colab": {},
    "colab_type": "code",
    "id": "C2W23vvT9Th6",
    "outputId": "0a569cda-c56e-4bba-ef57-7614e049ff05"
   },
   "outputs": [
    {
     "name": "stdout",
     "output_type": "stream",
     "text": [
      "              precision    recall  f1-score   support\n",
      "\n",
      "          CN       0.76      0.98      0.85        48\n",
      "          AD       0.89      0.35      0.50        23\n",
      "\n",
      "    accuracy                           0.77        71\n",
      "   macro avg       0.82      0.66      0.68        71\n",
      "weighted avg       0.80      0.77      0.74        71\n",
      "\n"
     ]
    }
   ],
   "source": [
    "from sklearn.metrics import classification_report\n",
    "y_true = y_test\n",
    "y_pred = y_pred_test\n",
    "target_names = ['CN', 'AD']\n",
    "print(classification_report(y_true, y_pred, target_names=target_names))"
   ]
  },
  {
   "cell_type": "code",
   "execution_count": 0,
   "metadata": {
    "colab": {},
    "colab_type": "code",
    "id": "obubuSlq9Th-"
   },
   "outputs": [],
   "source": []
  }
 ],
 "metadata": {
  "colab": {
   "name": "Classification_Gene_Features_based.ipynb",
   "provenance": []
  },
  "kernelspec": {
   "display_name": "Python 3",
   "language": "python",
   "name": "python3"
  },
  "language_info": {
   "codemirror_mode": {
    "name": "ipython",
    "version": 3
   },
   "file_extension": ".py",
   "mimetype": "text/x-python",
   "name": "python",
   "nbconvert_exporter": "python",
   "pygments_lexer": "ipython3",
   "version": "3.8.3"
  }
 },
 "nbformat": 4,
 "nbformat_minor": 1
}
