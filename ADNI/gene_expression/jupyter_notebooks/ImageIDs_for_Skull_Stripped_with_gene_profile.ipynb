{
 "cells": [
  {
   "cell_type": "markdown",
   "metadata": {},
   "source": [
    "This is just a record of how the image IDs for skull stripped MRI images was matched to their respective gene expression data. This will be used later in multi-modal training experiments."
   ]
  },
  {
   "cell_type": "markdown",
   "metadata": {},
   "source": [
    "First from the the .csv file for the whole  MRI database is downloaded that has all the detailed summary of all the MRI samples in ADNI. This file present in current directory is: 'wholedata.csv'"
   ]
  },
  {
   "cell_type": "code",
   "execution_count": 5,
   "metadata": {},
   "outputs": [
    {
     "data": {
      "text/plain": [
       "['my_mri_gene.csv',\n",
       " 'ADNI_Imaging_Gene_Expression_MMSE_Combined.csv',\n",
       " '.DS_Store',\n",
       " 'skull_stripped_MRI',\n",
       " 'wholedata.csv',\n",
       " 'final_skull_stripped_mri_with_gene_expression.csv',\n",
       " 'skull_stripped.csv',\n",
       " 'skull_stripped_metadata',\n",
       " 'genetics']"
      ]
     },
     "execution_count": 5,
     "metadata": {},
     "output_type": "execute_result"
    }
   ],
   "source": [
    "import os\n",
    "whole_csv_path = '/Users/subashkhanal/Desktop/MLforAlzheimers/data/ADNI/'\n",
    "combined_gene_expr_path = '/Users/subashkhanal/Desktop/MLforAlzheimers/data/ADNI/genetics/data_prep'\n",
    "os.listdir(whole_csv_path)"
   ]
  },
  {
   "cell_type": "markdown",
   "metadata": {},
   "source": [
    "The skull stripped MRIs have the Description field as 'Spatially Normalized, Masked and N3 corrected T1 image'. So.."
   ]
  },
  {
   "cell_type": "code",
   "execution_count": 3,
   "metadata": {},
   "outputs": [
    {
     "data": {
      "text/plain": [
       "1026"
      ]
     },
     "execution_count": 3,
     "metadata": {},
     "output_type": "execute_result"
    }
   ],
   "source": [
    "import pandas as pd\n",
    "sub = []\n",
    "whole_df = pd.read_csv(os.path.join(whole_csv_path,'wholedata.csv'))\n",
    "for i in range(len(whole_df)):\n",
    "    if 'Spatially Normalized, Masked and N3 corrected T1 image' in whole_df.iloc[i]['Description']:\n",
    "        sub.append(whole_df.iloc[i]['Subject ID'])\n",
    "len(sub)"
   ]
  },
  {
   "cell_type": "code",
   "execution_count": 7,
   "metadata": {},
   "outputs": [],
   "source": [
    "gene_df = pd.read_csv(os.path.join(combined_gene_expr_path,'ADNI_Imaging_Gene_Expression_MMSE_Combined.csv'),low_memory=False)"
   ]
  },
  {
   "cell_type": "code",
   "execution_count": 12,
   "metadata": {},
   "outputs": [
    {
     "data": {
      "text/plain": [
       "744"
      ]
     },
     "execution_count": 12,
     "metadata": {},
     "output_type": "execute_result"
    }
   ],
   "source": [
    "subjects_gene = gene_df.columns[1:]\n",
    "len(subjects_gene)"
   ]
  },
  {
   "cell_type": "code",
   "execution_count": 15,
   "metadata": {},
   "outputs": [
    {
     "data": {
      "text/plain": [
       "134"
      ]
     },
     "execution_count": 15,
     "metadata": {},
     "output_type": "execute_result"
    }
   ],
   "source": [
    "common_subs = []\n",
    "for s in set(sub):\n",
    "    if s  in list(subjects_gene):\n",
    "        common_subs.append(s)\n",
    "len(common_subs)"
   ]
  },
  {
   "cell_type": "markdown",
   "metadata": {},
   "source": [
    "This shows only 134 different subjects have both gene expression and skull stripped MRI in ADNI. We need to work on getting our own pre-processing pipeline for skull-stripping!!"
   ]
  },
  {
   "cell_type": "code",
   "execution_count": 17,
   "metadata": {},
   "outputs": [
    {
     "data": {
      "text/plain": [
       "'109_S_2278,003_S_4441,003_S_1074,098_S_4050,052_S_1352,126_S_4507,005_S_2390,016_S_2284,029_S_4307,094_S_2238,098_S_4506,029_S_4279,098_S_4018,127_S_4645,016_S_4009,021_S_4335,109_S_4455,099_S_4498,127_S_4210,007_S_4467,135_S_4309,094_S_2367,129_S_2332,021_S_4254,016_S_2031,021_S_4419,099_S_4480,021_S_4421,127_S_4148,003_S_4152,003_S_4350,007_S_2394,052_S_4626,129_S_4287,127_S_2234,131_S_0123,016_S_4097,094_S_4434,003_S_4081,109_S_4531,029_S_4385,129_S_4371,005_S_4707,099_S_2146,099_S_4565,003_S_4555,029_S_4384,007_S_4620,099_S_4463,005_S_4168,016_S_4353,016_S_4584,007_S_4272,021_S_2125,029_S_4327,003_S_0908,098_S_4215,003_S_2374,135_S_4356,021_S_4558,126_S_4458,057_S_2398,126_S_4494,057_S_0934,003_S_4373,021_S_2124,098_S_4275,126_S_2407,094_S_2216,127_S_4198,016_S_4591,094_S_4089,094_S_4234,003_S_4136,099_S_2063,094_S_4162,005_S_4185,094_S_2201,129_S_4220,129_S_4369,135_S_4281,027_S_2245,021_S_4245,021_S_2142,029_S_2395,094_S_4560,021_S_4276,094_S_4503,007_S_4387,099_S_4205,003_S_4354,007_S_4637,007_S_4611,099_S_4086,021_S_2150,098_S_4003,021_S_2100,027_S_2336,098_S_2047,126_S_4514,109_S_2200,127_S_2213,052_S_2249,109_S_2237,098_S_4201,127_S_4197,007_S_2058,007_S_4568,127_S_4604,098_S_2052,098_S_4059,027_S_2219,126_S_2405,007_S_4516,127_S_4500,099_S_4104,016_S_4121,098_S_2079,109_S_4260,094_S_4282,126_S_4686,003_S_4288,109_S_4499,007_S_4488,005_S_0610,127_S_4240,003_S_4119,052_S_0671,127_S_4301,029_S_2376,129_S_4396,007_S_2106,029_S_4290,021_S_4402,'"
      ]
     },
     "execution_count": 17,
     "metadata": {},
     "output_type": "execute_result"
    }
   ],
   "source": [
    "txt = ''\n",
    "for s in common_subs:\n",
    "    txt = txt+s+','\n",
    "txt"
   ]
  },
  {
   "cell_type": "markdown",
   "metadata": {},
   "source": [
    "Using these subjects download the detailed .csv file for the MRIs from ADNI database. The downloaded .csv is named here as 'my_mri_gene.csv'."
   ]
  },
  {
   "cell_type": "code",
   "execution_count": 26,
   "metadata": {},
   "outputs": [],
   "source": [
    "df_final = pd.read_csv(os.path.join(whole_csv_path,'my_mri_gene.csv'))"
   ]
  },
  {
   "cell_type": "code",
   "execution_count": 27,
   "metadata": {},
   "outputs": [
    {
     "data": {
      "text/plain": [
       "134"
      ]
     },
     "execution_count": 27,
     "metadata": {},
     "output_type": "execute_result"
    }
   ],
   "source": [
    "len(set(df_final['Subject ID']))"
   ]
  },
  {
   "cell_type": "code",
   "execution_count": 28,
   "metadata": {},
   "outputs": [],
   "source": [
    "sub = []\n",
    "for i in range(len(df_final)):\n",
    "    if 'Spatially Normalized, Masked and N3 corrected T1 image' in df_final.iloc[i]['Description']:\n",
    "        sub.append(i)"
   ]
  },
  {
   "cell_type": "code",
   "execution_count": 29,
   "metadata": {},
   "outputs": [
    {
     "data": {
      "text/plain": [
       "Counter({'MCI': 4, 'EMCI': 246, 'CN': 171, 'AD': 60, 'LMCI': 70})"
      ]
     },
     "execution_count": 29,
     "metadata": {},
     "output_type": "execute_result"
    }
   ],
   "source": [
    "from collections import Counter\n",
    "df_final = df_final.iloc[sub]\n",
    "Counter(df_final['Research Group'])"
   ]
  },
  {
   "cell_type": "code",
   "execution_count": 32,
   "metadata": {},
   "outputs": [
    {
     "data": {
      "text/plain": [
       "551"
      ]
     },
     "execution_count": 32,
     "metadata": {},
     "output_type": "execute_result"
    }
   ],
   "source": [
    "len(df_final)"
   ]
  },
  {
   "cell_type": "code",
   "execution_count": 33,
   "metadata": {},
   "outputs": [
    {
     "data": {
      "text/plain": [
       "'420849,537823,298789,356736,537831,298790,397037,298791,298961,356737,298792,298901,413116,383267,298794,369559,298795,298902,334838,413125,420865,298796,366706,369568,420866,698586,298797,397000,334806,369569,420867,698587,298798,298799,356696,383268,420868,334748,356697,437848,786086,298962,298801,298903,334860,397038,537846,298802,334839,356738,397039,614179,298803,298904,334840,356739,397040,614180,334750,334830,356698,383269,298963,298804,298905,298964,298805,298906,299000,413172,298965,298806,298907,334861,397041,763052,298807,298908,334841,356740,413156,298808,298909,366708,366732,437849,763053,298809,334811,334855,366722,420869,298810,356699,366723,298811,334812,356700,420870,698588,298812,356656,356701,383270,420871,334751,356702,369570,437850,763054,334752,334813,356703,383271,449736,763055,334753,356657,356704,383272,437851,763056,298967,298814,298911,299001,356761,397052,298815,298912,298968,298816,298913,298974,334862,383295,298817,298914,298975,298818,298915,298976,356741,397042,614181,298819,334814,334756,334815,356705,383273,334757,334816,356706,369571,298977,298821,298917,471150,298978,298822,298918,299002,298823,298919,356763,298824,356764,298979,298825,298827,298920,356742,698589,298828,298921,356743,614182,356744,614183,356631,614177,334761,334832,366724,420872,366689,298829,334850,420873,356708,298981,299003,298831,298923,356765,420883,487434,298982,299004,298832,298924,366734,420884,487435,698596,298983,334864,298833,298925,383296,437867,537847,786097,334856,298835,298926,334869,397043,298984,298836,298927,356746,397044,298837,298928,334851,366735,437855,298838,298929,334852,366725,413157,298839,356677,356712,383276,298840,298930,334853,356747,298841,334817,356713,366726,437856,298842,334818,356714,383277,437857,537826,786087,298985,299005,298843,298931,366736,487436,334767,334833,356717,383280,437858,537841,413143,614184,334800,334857,397030,880417,298986,298844,299006,366737,420885,487437,298987,298845,298932,334865,369574,420886,537848,298988,298846,298933,299007,383297,420887,298989,298847,356748,383298,501824,298848,298934,356749,413158,298849,298935,356718,356750,397045,614185,298850,298936,334842,383281,413159,763061,298851,356681,356719,298853,334819,334854,366727,420874,698590,298855,356682,383259,366728,437859,763057,334768,356683,356720,369572,437860,298990,298856,298937,299008,356766,397053,298991,298857,298938,299009,471151,298992,298859,298939,298860,298993,334866,383299,437868,298861,356721,334868,383300,298862,298863,298940,298994,356751,298864,334837,334858,298865,298941,812585,356752,413160,298866,334820,334843,397032,437863,298867,334821,383261,397033,786088,413161,471147,356647,413148,471144,397046,537837,397047,413164,437840,420850,437841,763049,437842,298870,298942,299010,383301,449740,880419,298871,298943,298872,298873,298876,334822,356723,413149,420875,537843,334770,356724,383284,449738,763058,334771,334810,369566,413150,449739,537844,334844,298879,298945,356753,413165,614186,334845,298880,298946,356754,413166,614187,298881,334823,334859,366729,420876,698592,298882,334824,356725,366730,420877,298883,334825,356726,369573,298884,334826,356727,366731,420878,698593,334774,334836,356729,383286,298996,298885,298947,299011,356767,420888,471152,298997,298886,298948,299012,369575,420889,471153,763062,845685,298887,298949,298998,356755,397048,614188,298888,298950,298999,356756,413167,614189,298889,298951,334846,356757,413168,614190,812592,298890,298952,334847,356758,397049,614191,812593,298891,298953,334848,356759,413169,298892,298954,334849,356760,413170,614192,845684,298893,334827,356732,383289,420879,334777,334828,356733,383290,763060,334779,334829,356734,383291,437866,812590,298894,383293,420880,537845,298955,383266,397051,298896,298956,356735,413155,614193,298897,298957,298898,298958,413171,298899,298959,369555,420864,487431,812582,812583,812584,'"
      ]
     },
     "execution_count": 33,
     "metadata": {},
     "output_type": "execute_result"
    }
   ],
   "source": [
    "txt = ''\n",
    "for i in df_final['Image ID']:\n",
    "    txt = txt+str(i)+','\n",
    "txt"
   ]
  },
  {
   "cell_type": "markdown",
   "metadata": {},
   "source": [
    "# Using these image ids skull stripped MRIs are downloaded for which there is availability of gene expression profile data."
   ]
  }
 ],
 "metadata": {
  "kernelspec": {
   "display_name": "Python 3",
   "language": "python",
   "name": "python3"
  },
  "language_info": {
   "codemirror_mode": {
    "name": "ipython",
    "version": 3
   },
   "file_extension": ".py",
   "mimetype": "text/x-python",
   "name": "python",
   "nbconvert_exporter": "python",
   "pygments_lexer": "ipython3",
   "version": "3.8.3"
  }
 },
 "nbformat": 4,
 "nbformat_minor": 4
}
